{
  "nbformat": 4,
  "nbformat_minor": 0,
  "metadata": {
    "colab": {
      "provenance": []
    },
    "kernelspec": {
      "name": "python3",
      "display_name": "Python 3"
    },
    "language_info": {
      "name": "python"
    }
  },
  "cells": [
    {
      "cell_type": "markdown",
      "source": [
        "[link text](https://en.innovatiana.com/post/best-datasets-for-text-classification)....used this link to find the IMDB dataset"
      ],
      "metadata": {
        "id": "U4MTGbxKXSAu"
      }
    },
    {
      "cell_type": "code",
      "execution_count": 4,
      "metadata": {
        "colab": {
          "base_uri": "https://localhost:8080/"
        },
        "id": "aKZMLQitOEND",
        "outputId": "72bad42d-c754-4af3-eca7-393fc7d0017c"
      },
      "outputs": [
        {
          "output_type": "stream",
          "name": "stdout",
          "text": [
            "<class 'pandas.core.frame.DataFrame'>\n",
            "RangeIndex: 50000 entries, 0 to 49999\n",
            "Data columns (total 2 columns):\n",
            " #   Column     Non-Null Count  Dtype \n",
            "---  ------     --------------  ----- \n",
            " 0   review     50000 non-null  object\n",
            " 1   sentiment  50000 non-null  object\n",
            "dtypes: object(2)\n",
            "memory usage: 781.4+ KB\n",
            "None\n",
            "                                              review sentiment\n",
            "0  One of the other reviewers has mentioned that ...  positive\n",
            "1  A wonderful little production. <br /><br />The...  positive\n",
            "2  I thought this was a wonderful way to spend ti...  positive\n",
            "3  Basically there's a family where a little boy ...  negative\n",
            "4  Petter Mattei's \"Love in the Time of Money\" is...  positive\n"
          ]
        }
      ],
      "source": [
        "import pandas as pd\n",
        "\n",
        "# Load the IMDB dataset\n",
        "dataset_path = 'IMDB_Dataset.csv'  # Update this path if the file is in a different location\n",
        "dataset = pd.read_csv(dataset_path)\n",
        "\n",
        "# Display basic information about the dataset\n",
        "print(dataset.info())\n",
        "print(dataset.head())\n"
      ]
    },
    {
      "cell_type": "code",
      "source": [
        "import re\n",
        "from nltk.corpus import stopwords\n",
        "from nltk.tokenize import word_tokenize\n",
        "from nltk.stem import WordNetLemmatizer\n",
        "\n",
        "# Download NLTK resources (only required once)\n",
        "import nltk\n",
        "nltk.download('stopwords')\n",
        "nltk.download('punkt')\n",
        "nltk.download('wordnet')\n",
        "nltk.download('punkt_tab') # Download the punkt_tab resource\n",
        "\n",
        "# Pre-processing function\n",
        "def preprocess_text(text):\n",
        "    text = text.lower()  # Convert to lowercase\n",
        "    text = re.sub(r'<.*?>', '', text)  # To Remove HTML tags\n",
        "    text = re.sub(r'[^\\w\\s]', '', text)  # To Remove punctuation\n",
        "    text = re.sub(r'\\d+', '', text)  #To  Remove numbers\n",
        "    tokens = word_tokenize(text)  # To Tokenize text\n",
        "    tokens = [word for word in tokens if word not in stopwords.words('english')]  # To Remove stopwords\n",
        "    lemmatizer = WordNetLemmatizer()\n",
        "    tokens = [lemmatizer.lemmatize(word) for word in tokens]  # Lemmatization\n",
        "    return ' '.join(tokens)\n",
        "\n",
        "# Applying  preprocessing to the reviews\n",
        "dataset['cleaned_review'] = dataset['review'].apply(preprocess_text)\n",
        "print(dataset[['review', 'cleaned_review']].head())"
      ],
      "metadata": {
        "colab": {
          "base_uri": "https://localhost:8080/"
        },
        "id": "S4b3wBWkUkeU",
        "outputId": "9937f1b9-35dc-40f5-8840-8f39c4696d30"
      },
      "execution_count": 5,
      "outputs": [
        {
          "output_type": "stream",
          "name": "stderr",
          "text": [
            "[nltk_data] Downloading package stopwords to /root/nltk_data...\n",
            "[nltk_data]   Package stopwords is already up-to-date!\n",
            "[nltk_data] Downloading package punkt to /root/nltk_data...\n",
            "[nltk_data]   Package punkt is already up-to-date!\n",
            "[nltk_data] Downloading package wordnet to /root/nltk_data...\n",
            "[nltk_data]   Package wordnet is already up-to-date!\n",
            "[nltk_data] Downloading package punkt_tab to /root/nltk_data...\n",
            "[nltk_data]   Package punkt_tab is already up-to-date!\n"
          ]
        },
        {
          "output_type": "stream",
          "name": "stdout",
          "text": [
            "                                              review  \\\n",
            "0  One of the other reviewers has mentioned that ...   \n",
            "1  A wonderful little production. <br /><br />The...   \n",
            "2  I thought this was a wonderful way to spend ti...   \n",
            "3  Basically there's a family where a little boy ...   \n",
            "4  Petter Mattei's \"Love in the Time of Money\" is...   \n",
            "\n",
            "                                      cleaned_review  \n",
            "0  one reviewer mentioned watching oz episode you...  \n",
            "1  wonderful little production filming technique ...  \n",
            "2  thought wonderful way spend time hot summer we...  \n",
            "3  basically there family little boy jake think t...  \n",
            "4  petter matteis love time money visually stunni...  \n"
          ]
        }
      ]
    },
    {
      "cell_type": "markdown",
      "source": [],
      "metadata": {
        "id": "Jbi9kNZJXQ2x"
      }
    },
    {
      "cell_type": "code",
      "source": [
        "##to visualize class distribution ..##Visualize how many reviews are labeled as positive or negative\n",
        "import matplotlib.pyplot as plt\n",
        "\n",
        "# Plot sentiment distribution\n",
        "class_distribution = dataset['sentiment'].value_counts()\n",
        "plt.bar(class_distribution.index, class_distribution.values, color=['blue', 'orange'])\n",
        "plt.title('Sentiment Distribution')\n",
        "plt.xlabel('Sentiment')\n",
        "plt.ylabel('Frequency')\n",
        "plt.show()\n"
      ],
      "metadata": {
        "colab": {
          "base_uri": "https://localhost:8080/",
          "height": 472
        },
        "id": "xOR3gXmTavSk",
        "outputId": "3a574448-cd53-4d36-8206-dfa0576b2362"
      },
      "execution_count": 7,
      "outputs": [
        {
          "output_type": "display_data",
          "data": {
            "text/plain": [
              "<Figure size 640x480 with 1 Axes>"
            ],
            "image/png": "[encoded data removed]"
          },
          "metadata": {}
        }
      ]
    },
    {
      "cell_type": "code",
      "source": [
        "##vectorization of text data...toConvert cleaned text into numerical features using TF-IDF.\n",
        "\n",
        "###Encoding sentiment labels as binary values: positive → 1, negative → 0.\n",
        "from sklearn.feature_extraction.text import CountVectorizer, TfidfVectorizer\n",
        "\n",
        "# Using TF-IDF vectorization for feature extraction\n",
        "vectorizer = TfidfVectorizer(max_features=5000)  # Limit to top 5000 words for efficiency\n",
        "X = vectorizer.fit_transform(dataset['cleaned_review'])\n",
        "y = dataset['sentiment'].apply(lambda x: 1 if x == 'positive' else 0)  # Encode labels as binary (1/0)\n",
        "\n",
        "print(f\"Shape of feature matrix: {X.shape}\")\n"
      ],
      "metadata": {
        "colab": {
          "base_uri": "https://localhost:8080/"
        },
        "id": "6KYCyIlqa9lb",
        "outputId": "ee38b3dd-1a52-4945-86df-26bfdcb86579"
      },
      "execution_count": 10,
      "outputs": [
        {
          "output_type": "stream",
          "name": "stdout",
          "text": [
            "Shape of feature matrix: (50000, 5000)\n"
          ]
        }
      ]
    },
    {
      "cell_type": "code",
      "source": [
        "##train and test splitting\n",
        "from sklearn.model_selection import train_test_split\n",
        "\n",
        "# Split data into training and testing sets (80% train, 20% test)\n",
        "X_train, X_test, y_train, y_test = train_test_split(X, y, test_size=0.2, random_state=42)\n",
        "\n",
        "print(f\"Training samples: {X_train.shape[0]}, Testing samples: {X_test.shape[0]}\")\n"
      ],
      "metadata": {
        "colab": {
          "base_uri": "https://localhost:8080/"
        },
        "id": "bHi2cYu0bXre",
        "outputId": "e854e46e-e580-41ba-c0e9-08dacb6909d2"
      },
      "execution_count": 11,
      "outputs": [
        {
          "output_type": "stream",
          "name": "stdout",
          "text": [
            "Training samples: 40000, Testing samples: 10000\n"
          ]
        }
      ]
    },
    {
      "cell_type": "markdown",
      "source": [
        "Baseline Model (Naive Bayes)"
      ],
      "metadata": {
        "id": "7BcbKXwgbx7P"
      }
    },
    {
      "cell_type": "code",
      "source": [
        "from sklearn.naive_bayes import MultinomialNB\n",
        "from sklearn.metrics import accuracy_score, classification_report\n",
        "\n",
        "# Train a Naive Bayes classifier\n",
        "model_nb = MultinomialNB()\n",
        "model_nb.fit(X_train, y_train)\n",
        "\n",
        "# Evaluate the model on test data\n",
        "y_pred_nb = model_nb.predict(X_test)\n",
        "print(f\"Naive Bayes Accuracy: {accuracy_score(y_test, y_pred_nb)}\")\n",
        "print(classification_report(y_test, y_pred_nb))\n"
      ],
      "metadata": {
        "colab": {
          "base_uri": "https://localhost:8080/"
        },
        "id": "FA6MNfrca5z8",
        "outputId": "be3d521c-2704-4e1c-f821-1898d67ac289"
      },
      "execution_count": 12,
      "outputs": [
        {
          "output_type": "stream",
          "name": "stdout",
          "text": [
            "Naive Bayes Accuracy: 0.8488\n",
            "              precision    recall  f1-score   support\n",
            "\n",
            "           0       0.85      0.84      0.85      4961\n",
            "           1       0.85      0.85      0.85      5039\n",
            "\n",
            "    accuracy                           0.85     10000\n",
            "   macro avg       0.85      0.85      0.85     10000\n",
            "weighted avg       0.85      0.85      0.85     10000\n",
            "\n"
          ]
        }
      ]
    },
    {
      "cell_type": "code",
      "source": [
        "from sklearn.linear_model import LogisticRegression\n",
        "from sklearn.svm import SVC\n",
        "\n",
        "# Logistic Regression Model\n",
        "model_lr = LogisticRegression(max_iter=1000)\n",
        "model_lr.fit(X_train, y_train)\n",
        "y_pred_lr = model_lr.predict(X_test)\n",
        "print(f\"Logistic Regression Accuracy: {accuracy_score(y_test, y_pred_lr)}\")\n",
        "\n",
        "# Support Vector Machine Model (Linear Kernel)\n",
        "model_svm = SVC(kernel='linear')\n",
        "model_svm.fit(X_train, y_train)\n",
        "y_pred_svm = model_svm.predict(X_test)\n",
        "print(f\"SVM Accuracy: {accuracy_score(y_test, y_pred_svm)}\")\n"
      ],
      "metadata": {
        "colab": {
          "base_uri": "https://localhost:8080/"
        },
        "id": "Oim0GpMrb3W5",
        "outputId": "78f6d8f1-4a7a-467d-b433-0978c95f81c9"
      },
      "execution_count": 13,
      "outputs": [
        {
          "output_type": "stream",
          "name": "stdout",
          "text": [
            "Logistic Regression Accuracy: 0.8846\n",
            "SVM Accuracy: 0.8863\n"
          ]
        }
      ]
    },
    {
      "cell_type": "markdown",
      "source": [
        "##DEEP LEARNING MODEL"
      ],
      "metadata": {
        "id": "_7_7xC5XgnGs"
      }
    },
    {
      "cell_type": "code",
      "source": [
        "# prompt: USE A DEEP LEARNING MODEL FOR THE ABOVE\n",
        "\n",
        "import tensorflow as tf\n",
        "from tensorflow import keras\n",
        "from tensorflow.keras import layers\n",
        "\n",
        "# Define the deep learning model\n",
        "model_dl = keras.Sequential([\n",
        "    layers.Dense(128, activation='relu', input_shape=(X_train.shape[1],)),\n",
        "    layers.Dropout(0.5),  # Add dropout for regularization\n",
        "    layers.Dense(64, activation='relu'),\n",
        "    layers.Dropout(0.3),\n",
        "    layers.Dense(1, activation='sigmoid')  # Output layer with sigmoid for binary classification\n",
        "])\n",
        "\n",
        "# Compile the model\n",
        "model_dl.compile(optimizer='adam',\n",
        "              loss='binary_crossentropy',  # Use binary cross-entropy for binary classification\n",
        "              metrics=['accuracy'])\n",
        "\n",
        "# Train the model\n",
        "model_dl.fit(X_train, y_train, epochs=5, batch_size=32, validation_split=0.1) # Reduced epochs for faster execution\n",
        "\n",
        "# Evaluate the model\n",
        "loss, accuracy = model_dl.evaluate(X_test, y_test)\n",
        "print(f\"Deep Learning Model Accuracy: {accuracy}\")\n"
      ],
      "metadata": {
        "colab": {
          "base_uri": "https://localhost:8080/"
        },
        "id": "LOAZAL0vmLwQ",
        "outputId": "7644f5ad-4a1c-472d-e549-0899d5530222"
      },
      "execution_count": 18,
      "outputs": [
        {
          "output_type": "stream",
          "name": "stderr",
          "text": [
            "/usr/local/lib/python3.11/dist-packages/keras/src/layers/core/dense.py:87: UserWarning: Do not pass an `input_shape`/`input_dim` argument to a layer. When using Sequential models, prefer using an `Input(shape)` object as the first layer in the model instead.\n",
            "  super().__init__(activity_regularizer=activity_regularizer, **kwargs)\n"
          ]
        },
        {
          "output_type": "stream",
          "name": "stdout",
          "text": [
            "Epoch 1/5\n",
            "\u001b[1m1125/1125\u001b[0m \u001b[32m━━━━━━━━━━━━━━━━━━━━\u001b[0m\u001b[37m\u001b[0m \u001b[1m13s\u001b[0m 10ms/step - accuracy: 0.7881 - loss: 0.4238 - val_accuracy: 0.8827 - val_loss: 0.2777\n",
            "Epoch 2/5\n",
            "\u001b[1m1125/1125\u001b[0m \u001b[32m━━━━━━━━━━━━━━━━━━━━\u001b[0m\u001b[37m\u001b[0m \u001b[1m20s\u001b[0m 10ms/step - accuracy: 0.9154 - loss: 0.2206 - val_accuracy: 0.8802 - val_loss: 0.2858\n",
            "Epoch 3/5\n",
            "\u001b[1m1125/1125\u001b[0m \u001b[32m━━━━━━━━━━━━━━━━━━━━\u001b[0m\u001b[37m\u001b[0m \u001b[1m17s\u001b[0m 15ms/step - accuracy: 0.9356 - loss: 0.1732 - val_accuracy: 0.8785 - val_loss: 0.3104\n",
            "Epoch 4/5\n",
            "\u001b[1m1125/1125\u001b[0m \u001b[32m━━━━━━━━━━━━━━━━━━━━\u001b[0m\u001b[37m\u001b[0m \u001b[1m17s\u001b[0m 12ms/step - accuracy: 0.9603 - loss: 0.1198 - val_accuracy: 0.8805 - val_loss: 0.3406\n",
            "Epoch 5/5\n",
            "\u001b[1m1125/1125\u001b[0m \u001b[32m━━━━━━━━━━━━━━━━━━━━\u001b[0m\u001b[37m\u001b[0m \u001b[1m12s\u001b[0m 11ms/step - accuracy: 0.9739 - loss: 0.0828 - val_accuracy: 0.8740 - val_loss: 0.3984\n",
            "\u001b[1m313/313\u001b[0m \u001b[32m━━━━━━━━━━━━━━━━━━━━\u001b[0m\u001b[37m\u001b[0m \u001b[1m1s\u001b[0m 3ms/step - accuracy: 0.8814 - loss: 0.3751\n",
            "Deep Learning Model Accuracy: 0.8784000277519226\n"
          ]
        }
      ]
    },
    {
      "cell_type": "code",
      "source": [
        "\n",
        "\n",
        "# Assuming you want to compare the performance of the models\n",
        "# Create a dictionary to store the results\n",
        "model_results = {\n",
        "    \"Naive Bayes\": accuracy_score(y_test, y_pred_nb),\n",
        "    \"Logistic Regression\": accuracy_score(y_test, y_pred_lr),\n",
        "    \"SVM\": accuracy_score(y_test, y_pred_svm),\n",
        "    \"Deep Learning\": accuracy\n",
        "}\n",
        "\n",
        "\n",
        "# Create a bar chart to visualize the performance\n",
        "plt.figure(figsize=(8, 6))\n",
        "plt.bar(model_results.keys(), model_results.values(), color=['blue', 'green', 'red', 'purple'])\n",
        "plt.xlabel(\"Models\")\n",
        "plt.ylabel(\"Accuracy\")\n",
        "plt.title(\"Models Performance Comparison\")\n",
        "plt.ylim(0.7, 1.0) # Set y-axis limits\n",
        "plt.show()\n",
        "\n",
        "# Print classification reports for all models (optional but provides detailed insight)\n",
        "print(\"Naive Bayes Classification Report:\\n\", classification_report(y_test, y_pred_nb))\n",
        "print(\"Logistic Regression Classification Report:\\n\", classification_report(y_test, y_pred_lr))\n",
        "print(\"SVM Classification Report:\\n\", classification_report(y_test, y_pred_svm))\n"
      ],
      "metadata": {
        "colab": {
          "base_uri": "https://localhost:8080/",
          "height": 1000
        },
        "id": "iRvdQkUTm9B7",
        "outputId": "eded5931-87e1-4a96-846d-87e69b3f8939"
      },
      "execution_count": 20,
      "outputs": [
        {
          "output_type": "display_data",
          "data": {
            "text/plain": [
              "<Figure size 800x600 with 1 Axes>"
            ],
            "image/png": "[encoded data removed]"
          },
          "metadata": {}
        },
        {
          "output_type": "stream",
          "name": "stdout",
          "text": [
            "Naive Bayes Classification Report:\n",
            "               precision    recall  f1-score   support\n",
            "\n",
            "           0       0.85      0.84      0.85      4961\n",
            "           1       0.85      0.85      0.85      5039\n",
            "\n",
            "    accuracy                           0.85     10000\n",
            "   macro avg       0.85      0.85      0.85     10000\n",
            "weighted avg       0.85      0.85      0.85     10000\n",
            "\n",
            "Logistic Regression Classification Report:\n",
            "               precision    recall  f1-score   support\n",
            "\n",
            "           0       0.89      0.87      0.88      4961\n",
            "           1       0.88      0.90      0.89      5039\n",
            "\n",
            "    accuracy                           0.88     10000\n",
            "   macro avg       0.88      0.88      0.88     10000\n",
            "weighted avg       0.88      0.88      0.88     10000\n",
            "\n",
            "SVM Classification Report:\n",
            "               precision    recall  f1-score   support\n",
            "\n",
            "           0       0.89      0.88      0.88      4961\n",
            "           1       0.88      0.90      0.89      5039\n",
            "\n",
            "    accuracy                           0.89     10000\n",
            "   macro avg       0.89      0.89      0.89     10000\n",
            "weighted avg       0.89      0.89      0.89     10000\n",
            "\n"
          ]
        }
      ]
    }
  ]
}